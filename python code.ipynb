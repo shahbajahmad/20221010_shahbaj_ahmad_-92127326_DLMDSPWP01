{
 "cells": [
  {
   "cell_type": "code",
   "execution_count": null,
   "metadata": {},
   "outputs": [],
   "source": [
    "import pandas as pd\n",
    "import numpy as np\n",
    "import matplotlib.pyplot as plt"
   ]
  },
  {
   "cell_type": "code",
   "execution_count": null,
   "metadata": {},
   "outputs": [],
   "source": [
    "train_data=pd.read_csv(\"train.csv\")\n",
    "train_data.head()"
   ]
  },
  {
   "cell_type": "code",
   "execution_count": null,
   "metadata": {},
   "outputs": [],
   "source": [
    "test_data=pd.read_csv(\"test.csv\")\n",
    "test_data.head()"
   ]
  },
  {
   "cell_type": "code",
   "execution_count": null,
   "metadata": {},
   "outputs": [],
   "source": [
    "ideal_function=pd.read_csv(\"ideal.csv\")\n",
    "ideal_function.head()"
   ]
  },
  {
   "cell_type": "code",
   "execution_count": null,
   "metadata": {},
   "outputs": [],
   "source": [
    "# analyzing sidtribution of x\n",
    "train_data['x'].hist(bins=50)"
   ]
  },
  {
   "cell_type": "code",
   "execution_count": null,
   "metadata": {},
   "outputs": [],
   "source": [
    "# analyzing training data\n",
    "ax1 = train_data.plot(kind='scatter', x='x', y='y1', color='r')    \n",
    "ax2 = train_data.plot(kind='scatter', x='x', y='y2', color='g', ax=ax1)    \n",
    "ax3 = train_data.plot(kind='scatter', x='x', y='y3', color='b', ax=ax1)\n",
    "ax4 = train_data.plot(kind='scatter', x='x', y='y4', color='y', ax=ax1)\n",
    "print(ax1 == ax2 == ax3==ax4) "
   ]
  },
  {
   "cell_type": "code",
   "execution_count": null,
   "metadata": {},
   "outputs": [],
   "source": [
    "# analyzing distribution of y1\n",
    "train_data['y1'].hist(bins=50)"
   ]
  },
  {
   "cell_type": "code",
   "execution_count": null,
   "metadata": {},
   "outputs": [],
   "source": [
    "# analyzing distribution of y2\n",
    "train_data['y2'].hist(bins=50)"
   ]
  },
  {
   "cell_type": "code",
   "execution_count": null,
   "metadata": {},
   "outputs": [],
   "source": [
    "# analyzing distribution of y3\n",
    "train_data['y3'].hist(bins=50)"
   ]
  },
  {
   "cell_type": "code",
   "execution_count": null,
   "metadata": {},
   "outputs": [],
   "source": [
    "# analyzing distribution of y4\n",
    "train_data['y4'].hist(bins=50)"
   ]
  },
  {
   "cell_type": "code",
   "execution_count": null,
   "metadata": {},
   "outputs": [],
   "source": [
    "# analyzing testing  data\n",
    "ax1 = test_data.plot(kind='scatter', x='x', y='y', color='r')    \n",
    "print(ax1) "
   ]
  },
  {
   "cell_type": "code",
   "execution_count": null,
   "metadata": {},
   "outputs": [],
   "source": [
    "## Defining function to calculate mean square error\n",
    "def calculate_mean_sq_error(y,y_t):\n",
    "    diff_sum = 0  #variable to store the summation of differences\n",
    "    n = len(y) #finding total number of items in list\n",
    "    for i in range (0,n):  #looping through each element of the list\n",
    "      diff = y[i] - y_t[i]  #finding the difference between observed and predicted value\n",
    "      squared_difference = diff**2  #taking square of the differene \n",
    "      diff_sum = diff_sum + squared_difference  #taking a sum of all the differences\n",
    "    MSE = diff_sum/n\n",
    "    return MSE"
   ]
  },
  {
   "cell_type": "code",
   "execution_count": null,
   "metadata": {},
   "outputs": [],
   "source": [
    "#uses training data to choose the four ideal functions which are the\n",
    "#best fit out of the fifty provided "
   ]
  },
  {
   "cell_type": "code",
   "execution_count": null,
   "metadata": {},
   "outputs": [],
   "source": [
    "def calculate_mean_sq_error_training(y_ideal):\n",
    "    mean_er_y1= calculate_mean_sq_error(list(train_data['y1']),y_ideal)\n",
    "    mean_er_y2= calculate_mean_sq_error(list(train_data['y2']),y_ideal)\n",
    "    mean_er_y3= calculate_mean_sq_error(list(train_data['y3']),y_ideal)\n",
    "    mean_er_y4= calculate_mean_sq_error(list(train_data['y4']),y_ideal)\n",
    "    mean_error_training = (mean_er_y1 + mean_er_y2 + mean_er_y3 + mean_er_y4)/4\n",
    "    return mean_error_training"
   ]
  },
  {
   "cell_type": "code",
   "execution_count": null,
   "metadata": {},
   "outputs": [],
   "source": [
    "ideal_fit_score=[]\n",
    "for i in range(50):\n",
    "    idle_y = 'y'+str(i+1)\n",
    "    train_mean_score = calculate_mean_sq_error_training(list(ideal_function[idle_y]))\n",
    "    ideal_fit_score.append(train_mean_score)"
   ]
  },
  {
   "cell_type": "code",
   "execution_count": null,
   "metadata": {},
   "outputs": [],
   "source": [
    "plt.hist(ideal_fit_score)"
   ]
  },
  {
   "cell_type": "code",
   "execution_count": null,
   "metadata": {},
   "outputs": [],
   "source": [
    "# get the four idle which has the lowest mean squared score which has the best fit\n",
    "np.array(ideal_fit_score).argsort()[:4]"
   ]
  },
  {
   "cell_type": "markdown",
   "metadata": {},
   "source": [
    "# for my given dataset y30,y32,y35 and y44 are the four ideal function for which training data has best fit"
   ]
  }
 ],
 "metadata": {
  "kernelspec": {
   "display_name": "Python 3 (ipykernel)",
   "language": "python",
   "name": "python3"
  },
  "language_info": {
   "codemirror_mode": {
    "name": "ipython",
    "version": 3
   },
   "file_extension": ".py",
   "mimetype": "text/x-python",
   "name": "python",
   "nbconvert_exporter": "python",
   "pygments_lexer": "ipython3",
   "version": "3.10.7"
  },
  "vscode": {
   "interpreter": {
    "hash": "df447119a33c6357d6d222a4df5154a4ebede93d66fc2209156184b4eb7edf7b"
   }
  }
 },
 "nbformat": 4,
 "nbformat_minor": 4
}
